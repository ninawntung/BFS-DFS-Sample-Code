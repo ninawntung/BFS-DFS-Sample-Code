{
 "cells": [
  {
   "cell_type": "markdown",
   "metadata": {},
   "source": [
    "# BFS - Breadth-First Search"
   ]
  },
  {
   "cell_type": "code",
   "execution_count": 9,
   "metadata": {},
   "outputs": [
    {
     "name": "stdout",
     "output_type": "stream",
     "text": [
      "[1, 2, 3, 4, 5, 6, 7, 8, 9, 10, 11, 12]\n"
     ]
    }
   ],
   "source": [
    "\"\"\"Represent a graph by dictionary\"\"\"\n",
    "graph = {1: [2,3,4],\n",
    "         2: [1,5,6],\n",
    "         3: [1],\n",
    "         4: [1,7,8],\n",
    "         5: [2,9,10],\n",
    "         6: [2],\n",
    "         7: [4,11,12],\n",
    "         8: [4],\n",
    "         9: [5],\n",
    "         10: [5],\n",
    "         11: [7],\n",
    "         12: [7]\n",
    "        }\n",
    "\n",
    "\"\"\"find all the nodes that are connected to node 1\"\"\"\n",
    "waiting_list = []\n",
    "visited_list = []\n",
    "\n",
    "waiting_list.append(1)\n",
    "\n",
    "while waiting_list:\n",
    "    \n",
    "    x = waiting_list.pop(0)\n",
    "\n",
    "    if x not in visited_list:\n",
    "        visited_list.append(x)\n",
    "    \n",
    "    for connected_node in graph[x]: #graph list\n",
    "        if connected_node not in visited_list:\n",
    "            waiting_list.append(connected_node)\n",
    "\n",
    "print(visited_list)\n"
   ]
  },
  {
   "cell_type": "markdown",
   "metadata": {},
   "source": [
    "# DFS - Depth-First Search"
   ]
  },
  {
   "cell_type": "code",
   "execution_count": 10,
   "metadata": {},
   "outputs": [
    {
     "name": "stdout",
     "output_type": "stream",
     "text": [
      "[1, 4, 8, 7, 12, 11, 3, 2, 6, 5, 10, 9]\n"
     ]
    }
   ],
   "source": [
    "waiting_list = []\n",
    "visited_list = []\n",
    "\n",
    "waiting_list.append(1)\n",
    "\n",
    "while waiting_list:\n",
    "\n",
    "    x = waiting_list.pop(-1)\n",
    "\n",
    "    if x not in visited_list:\n",
    "        visited_list.append(x)\n",
    "\n",
    "    for connected_node in graph[x]:\n",
    "        if connected_node not in visited_list:\n",
    "            waiting_list.append(connected_node)\n",
    "\n",
    "print(visited_list)"
   ]
  },
  {
   "cell_type": "code",
   "execution_count": null,
   "metadata": {},
   "outputs": [],
   "source": []
  }
 ],
 "metadata": {
  "kernelspec": {
   "display_name": "base",
   "language": "python",
   "name": "python3"
  },
  "language_info": {
   "codemirror_mode": {
    "name": "ipython",
    "version": 3
   },
   "file_extension": ".py",
   "mimetype": "text/x-python",
   "name": "python",
   "nbconvert_exporter": "python",
   "pygments_lexer": "ipython3",
   "version": "3.9.12"
  },
  "orig_nbformat": 4
 },
 "nbformat": 4,
 "nbformat_minor": 2
}
